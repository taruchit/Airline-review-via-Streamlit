{
 "cells": [
  {
   "cell_type": "code",
   "execution_count": 1,
   "id": "26e0422b-1eb5-4bec-acba-4be11090298d",
   "metadata": {},
   "outputs": [],
   "source": [
    "import pandas as pd\n",
    "import numpy as np"
   ]
  },
  {
   "cell_type": "code",
   "execution_count": 2,
   "id": "9095352b-98b6-4ef0-95c1-8a65fbd2a1a8",
   "metadata": {},
   "outputs": [],
   "source": [
    "df=pd.read_csv('qatar_airways_reviews.csv')"
   ]
  },
  {
   "cell_type": "code",
   "execution_count": 3,
   "id": "0e8dc2af-8f00-4d9a-b33f-e2ba0d3a1562",
   "metadata": {},
   "outputs": [
    {
     "data": {
      "text/html": [
       "<div>\n",
       "<style scoped>\n",
       "    .dataframe tbody tr th:only-of-type {\n",
       "        vertical-align: middle;\n",
       "    }\n",
       "\n",
       "    .dataframe tbody tr th {\n",
       "        vertical-align: top;\n",
       "    }\n",
       "\n",
       "    .dataframe thead th {\n",
       "        text-align: right;\n",
       "    }\n",
       "</style>\n",
       "<table border=\"1\" class=\"dataframe\">\n",
       "  <thead>\n",
       "    <tr style=\"text-align: right;\">\n",
       "      <th></th>\n",
       "      <th>Unnamed: 0</th>\n",
       "      <th>Date Published</th>\n",
       "      <th>Rating</th>\n",
       "      <th>Max Rating</th>\n",
       "      <th>Title</th>\n",
       "      <th>Author</th>\n",
       "      <th>Country</th>\n",
       "      <th>Date</th>\n",
       "      <th>Review Body</th>\n",
       "      <th>Type Of Traveller</th>\n",
       "      <th>Seat Type</th>\n",
       "      <th>Route</th>\n",
       "      <th>Date Flown</th>\n",
       "      <th>Recommended</th>\n",
       "      <th>Aircraft</th>\n",
       "      <th>Verified</th>\n",
       "    </tr>\n",
       "  </thead>\n",
       "  <tbody>\n",
       "    <tr>\n",
       "      <th>0</th>\n",
       "      <td>0</td>\n",
       "      <td>2024-03-02</td>\n",
       "      <td>1.0</td>\n",
       "      <td>10.0</td>\n",
       "      <td>“marred by inconveniences”</td>\n",
       "      <td>Mary Le</td>\n",
       "      <td>United Kingdom</td>\n",
       "      <td>2024-03-02</td>\n",
       "      <td>The delay of my flight from Haneda to Doha ca...</td>\n",
       "      <td>Solo Leisure</td>\n",
       "      <td>Economy Class</td>\n",
       "      <td>Tokyo to London Heathrow via Doha</td>\n",
       "      <td>March 2024</td>\n",
       "      <td>no</td>\n",
       "      <td>NaN</td>\n",
       "      <td>0.0</td>\n",
       "    </tr>\n",
       "    <tr>\n",
       "      <th>1</th>\n",
       "      <td>1</td>\n",
       "      <td>2024-02-29</td>\n",
       "      <td>1.0</td>\n",
       "      <td>10.0</td>\n",
       "      <td>\"seat wouldn't stay up\"</td>\n",
       "      <td>Brian English</td>\n",
       "      <td>Canada</td>\n",
       "      <td>2024-02-29</td>\n",
       "      <td>They convinced me that I needed to pay $1500...</td>\n",
       "      <td>Couple Leisure</td>\n",
       "      <td>Business Class</td>\n",
       "      <td>Doha to Montreal</td>\n",
       "      <td>February 2024</td>\n",
       "      <td>no</td>\n",
       "      <td>NaN</td>\n",
       "      <td>1.0</td>\n",
       "    </tr>\n",
       "    <tr>\n",
       "      <th>2</th>\n",
       "      <td>2</td>\n",
       "      <td>2024-02-29</td>\n",
       "      <td>1.0</td>\n",
       "      <td>10.0</td>\n",
       "      <td>\"no attempt to address our complaint\"</td>\n",
       "      <td>Wayne Burgess</td>\n",
       "      <td>Australia</td>\n",
       "      <td>2024-02-29</td>\n",
       "      <td>I have sent 5 emails and have only received ...</td>\n",
       "      <td>Business</td>\n",
       "      <td>Economy Class</td>\n",
       "      <td>Doha to Perth</td>\n",
       "      <td>November 2023</td>\n",
       "      <td>no</td>\n",
       "      <td>A380</td>\n",
       "      <td>1.0</td>\n",
       "    </tr>\n",
       "    <tr>\n",
       "      <th>3</th>\n",
       "      <td>3</td>\n",
       "      <td>2024-02-25</td>\n",
       "      <td>10.0</td>\n",
       "      <td>10.0</td>\n",
       "      <td>“I hope they update the A380”</td>\n",
       "      <td>Alwaleed Althani</td>\n",
       "      <td>Qatar</td>\n",
       "      <td>2024-02-25</td>\n",
       "      <td>We flew on probably the first A380 the airlin...</td>\n",
       "      <td>Couple Leisure</td>\n",
       "      <td>First Class</td>\n",
       "      <td>Doha to London Heathrow</td>\n",
       "      <td>February 2024</td>\n",
       "      <td>NaN</td>\n",
       "      <td>A380-800</td>\n",
       "      <td>1.0</td>\n",
       "    </tr>\n",
       "    <tr>\n",
       "      <th>4</th>\n",
       "      <td>4</td>\n",
       "      <td>2024-02-22</td>\n",
       "      <td>7.0</td>\n",
       "      <td>10.0</td>\n",
       "      <td>\"I’d rate them maybe 7/10\"</td>\n",
       "      <td>W Warnock</td>\n",
       "      <td>United Kingdom</td>\n",
       "      <td>2024-02-22</td>\n",
       "      <td>Service was ok, pretty good on my aisle and ...</td>\n",
       "      <td>Couple Leisure</td>\n",
       "      <td>Business Class</td>\n",
       "      <td>Auckland to Doha</td>\n",
       "      <td>February 2024</td>\n",
       "      <td>no</td>\n",
       "      <td>A350</td>\n",
       "      <td>1.0</td>\n",
       "    </tr>\n",
       "  </tbody>\n",
       "</table>\n",
       "</div>"
      ],
      "text/plain": [
       "   Unnamed: 0 Date Published  Rating  Max Rating  \\\n",
       "0           0     2024-03-02     1.0        10.0   \n",
       "1           1     2024-02-29     1.0        10.0   \n",
       "2           2     2024-02-29     1.0        10.0   \n",
       "3           3     2024-02-25    10.0        10.0   \n",
       "4           4     2024-02-22     7.0        10.0   \n",
       "\n",
       "                                   Title            Author         Country  \\\n",
       "0             “marred by inconveniences”           Mary Le  United Kingdom   \n",
       "1                \"seat wouldn't stay up\"     Brian English          Canada   \n",
       "2  \"no attempt to address our complaint\"     Wayne Burgess       Australia   \n",
       "3          “I hope they update the A380”  Alwaleed Althani           Qatar   \n",
       "4             \"I’d rate them maybe 7/10\"         W Warnock  United Kingdom   \n",
       "\n",
       "         Date                                        Review Body  \\\n",
       "0  2024-03-02   The delay of my flight from Haneda to Doha ca...   \n",
       "1  2024-02-29    They convinced me that I needed to pay $1500...   \n",
       "2  2024-02-29    I have sent 5 emails and have only received ...   \n",
       "3  2024-02-25   We flew on probably the first A380 the airlin...   \n",
       "4  2024-02-22    Service was ok, pretty good on my aisle and ...   \n",
       "\n",
       "  Type Of Traveller       Seat Type                              Route  \\\n",
       "0      Solo Leisure   Economy Class  Tokyo to London Heathrow via Doha   \n",
       "1    Couple Leisure  Business Class                   Doha to Montreal   \n",
       "2          Business   Economy Class                      Doha to Perth   \n",
       "3    Couple Leisure     First Class            Doha to London Heathrow   \n",
       "4    Couple Leisure  Business Class                   Auckland to Doha   \n",
       "\n",
       "      Date Flown Recommended  Aircraft  Verified  \n",
       "0     March 2024          no       NaN       0.0  \n",
       "1  February 2024          no       NaN       1.0  \n",
       "2  November 2023          no      A380       1.0  \n",
       "3  February 2024         NaN  A380-800       1.0  \n",
       "4  February 2024          no      A350       1.0  "
      ]
     },
     "execution_count": 3,
     "metadata": {},
     "output_type": "execute_result"
    }
   ],
   "source": [
    "df.head()"
   ]
  },
  {
   "cell_type": "code",
   "execution_count": 4,
   "id": "c777a015-0638-4cb5-ab81-6e6bae2288d3",
   "metadata": {},
   "outputs": [
    {
     "data": {
      "text/html": [
       "<div>\n",
       "<style scoped>\n",
       "    .dataframe tbody tr th:only-of-type {\n",
       "        vertical-align: middle;\n",
       "    }\n",
       "\n",
       "    .dataframe tbody tr th {\n",
       "        vertical-align: top;\n",
       "    }\n",
       "\n",
       "    .dataframe thead th {\n",
       "        text-align: right;\n",
       "    }\n",
       "</style>\n",
       "<table border=\"1\" class=\"dataframe\">\n",
       "  <thead>\n",
       "    <tr style=\"text-align: right;\">\n",
       "      <th></th>\n",
       "      <th>Unnamed: 0</th>\n",
       "      <th>Date Published</th>\n",
       "      <th>Rating</th>\n",
       "      <th>Max Rating</th>\n",
       "      <th>Title</th>\n",
       "      <th>Author</th>\n",
       "      <th>Country</th>\n",
       "      <th>Date</th>\n",
       "      <th>Review Body</th>\n",
       "      <th>Type Of Traveller</th>\n",
       "      <th>Seat Type</th>\n",
       "      <th>Route</th>\n",
       "      <th>Date Flown</th>\n",
       "      <th>Recommended</th>\n",
       "      <th>Aircraft</th>\n",
       "      <th>Verified</th>\n",
       "    </tr>\n",
       "  </thead>\n",
       "  <tbody>\n",
       "    <tr>\n",
       "      <th>2364</th>\n",
       "      <td>2364</td>\n",
       "      <td>2013-08-12</td>\n",
       "      <td>9.0</td>\n",
       "      <td>10.0</td>\n",
       "      <td>Qatar Airways customer review</td>\n",
       "      <td>R Nash</td>\n",
       "      <td>Australia</td>\n",
       "      <td>2013-08-12</td>\n",
       "      <td>Flew first class CAI-DOH on QR503 on 8th Aug 2...</td>\n",
       "      <td>NaN</td>\n",
       "      <td>First Class</td>\n",
       "      <td>NaN</td>\n",
       "      <td>NaN</td>\n",
       "      <td>NaN</td>\n",
       "      <td>NaN</td>\n",
       "      <td>NaN</td>\n",
       "    </tr>\n",
       "    <tr>\n",
       "      <th>2365</th>\n",
       "      <td>2365</td>\n",
       "      <td>2013-08-06</td>\n",
       "      <td>7.0</td>\n",
       "      <td>10.0</td>\n",
       "      <td>Qatar Airways customer review</td>\n",
       "      <td>Gamage Champika</td>\n",
       "      <td>United Arab Emirates</td>\n",
       "      <td>2013-08-06</td>\n",
       "      <td>I took a flight to London on 17th July with my...</td>\n",
       "      <td>NaN</td>\n",
       "      <td>Economy Class</td>\n",
       "      <td>NaN</td>\n",
       "      <td>NaN</td>\n",
       "      <td>NaN</td>\n",
       "      <td>NaN</td>\n",
       "      <td>NaN</td>\n",
       "    </tr>\n",
       "    <tr>\n",
       "      <th>2366</th>\n",
       "      <td>2366</td>\n",
       "      <td>2013-08-06</td>\n",
       "      <td>5.0</td>\n",
       "      <td>10.0</td>\n",
       "      <td>Qatar Airways customer review</td>\n",
       "      <td>Martin Fernandez</td>\n",
       "      <td>Spain</td>\n",
       "      <td>2013-08-06</td>\n",
       "      <td>MAD-DOH-DXB and back. Boeing 777 in MAD-DOH se...</td>\n",
       "      <td>NaN</td>\n",
       "      <td>Economy Class</td>\n",
       "      <td>NaN</td>\n",
       "      <td>NaN</td>\n",
       "      <td>no</td>\n",
       "      <td>NaN</td>\n",
       "      <td>NaN</td>\n",
       "    </tr>\n",
       "    <tr>\n",
       "      <th>2367</th>\n",
       "      <td>2367</td>\n",
       "      <td>2013-08-06</td>\n",
       "      <td>7.0</td>\n",
       "      <td>10.0</td>\n",
       "      <td>Qatar Airways customer review</td>\n",
       "      <td>David Monteiro</td>\n",
       "      <td>Switzerland</td>\n",
       "      <td>2013-08-06</td>\n",
       "      <td>GVA-AUH A320. Good food but after the main mea...</td>\n",
       "      <td>NaN</td>\n",
       "      <td>Economy Class</td>\n",
       "      <td>NaN</td>\n",
       "      <td>NaN</td>\n",
       "      <td>NaN</td>\n",
       "      <td>NaN</td>\n",
       "      <td>NaN</td>\n",
       "    </tr>\n",
       "    <tr>\n",
       "      <th>2368</th>\n",
       "      <td>2368</td>\n",
       "      <td>2013-08-05</td>\n",
       "      <td>3.0</td>\n",
       "      <td>10.0</td>\n",
       "      <td>Qatar Airways customer review</td>\n",
       "      <td>A Boorman</td>\n",
       "      <td>United Kingdom</td>\n",
       "      <td>2013-08-05</td>\n",
       "      <td>London Heathrow - Yangon via Doha return. Firs...</td>\n",
       "      <td>NaN</td>\n",
       "      <td>Economy Class</td>\n",
       "      <td>NaN</td>\n",
       "      <td>NaN</td>\n",
       "      <td>no</td>\n",
       "      <td>NaN</td>\n",
       "      <td>NaN</td>\n",
       "    </tr>\n",
       "  </tbody>\n",
       "</table>\n",
       "</div>"
      ],
      "text/plain": [
       "      Unnamed: 0 Date Published  Rating  Max Rating  \\\n",
       "2364        2364     2013-08-12     9.0        10.0   \n",
       "2365        2365     2013-08-06     7.0        10.0   \n",
       "2366        2366     2013-08-06     5.0        10.0   \n",
       "2367        2367     2013-08-06     7.0        10.0   \n",
       "2368        2368     2013-08-05     3.0        10.0   \n",
       "\n",
       "                              Title            Author               Country  \\\n",
       "2364  Qatar Airways customer review            R Nash             Australia   \n",
       "2365  Qatar Airways customer review   Gamage Champika  United Arab Emirates   \n",
       "2366  Qatar Airways customer review  Martin Fernandez                 Spain   \n",
       "2367  Qatar Airways customer review    David Monteiro           Switzerland   \n",
       "2368  Qatar Airways customer review         A Boorman        United Kingdom   \n",
       "\n",
       "            Date                                        Review Body  \\\n",
       "2364  2013-08-12  Flew first class CAI-DOH on QR503 on 8th Aug 2...   \n",
       "2365  2013-08-06  I took a flight to London on 17th July with my...   \n",
       "2366  2013-08-06  MAD-DOH-DXB and back. Boeing 777 in MAD-DOH se...   \n",
       "2367  2013-08-06  GVA-AUH A320. Good food but after the main mea...   \n",
       "2368  2013-08-05  London Heathrow - Yangon via Doha return. Firs...   \n",
       "\n",
       "     Type Of Traveller      Seat Type Route Date Flown Recommended Aircraft  \\\n",
       "2364               NaN    First Class   NaN        NaN         NaN      NaN   \n",
       "2365               NaN  Economy Class   NaN        NaN         NaN      NaN   \n",
       "2366               NaN  Economy Class   NaN        NaN          no      NaN   \n",
       "2367               NaN  Economy Class   NaN        NaN         NaN      NaN   \n",
       "2368               NaN  Economy Class   NaN        NaN          no      NaN   \n",
       "\n",
       "      Verified  \n",
       "2364       NaN  \n",
       "2365       NaN  \n",
       "2366       NaN  \n",
       "2367       NaN  \n",
       "2368       NaN  "
      ]
     },
     "execution_count": 4,
     "metadata": {},
     "output_type": "execute_result"
    }
   ],
   "source": [
    "df.tail()"
   ]
  },
  {
   "cell_type": "code",
   "execution_count": 8,
   "id": "080864a5-6730-4a8d-b5fd-83262bd5c290",
   "metadata": {},
   "outputs": [
    {
     "data": {
      "text/plain": [
       "np.int64(1)"
      ]
     },
     "execution_count": 8,
     "metadata": {},
     "output_type": "execute_result"
    }
   ],
   "source": [
    "df['Rating'].isna().sum()"
   ]
  },
  {
   "cell_type": "code",
   "execution_count": 9,
   "id": "94a45bb0-6ba3-4f26-b103-459f2dd9f668",
   "metadata": {},
   "outputs": [
    {
     "data": {
      "text/plain": [
       "np.int64(1)"
      ]
     },
     "execution_count": 9,
     "metadata": {},
     "output_type": "execute_result"
    }
   ],
   "source": [
    "df['Rating'].isnull().sum()"
   ]
  },
  {
   "cell_type": "code",
   "execution_count": 11,
   "id": "8ce68e9b-7afd-440b-93c5-bcad52ab0082",
   "metadata": {},
   "outputs": [
    {
     "data": {
      "text/plain": [
       "np.int64(0)"
      ]
     },
     "execution_count": 11,
     "metadata": {},
     "output_type": "execute_result"
    }
   ],
   "source": [
    "df[\"Seat Type\"].isnull().sum()"
   ]
  },
  {
   "cell_type": "code",
   "execution_count": 12,
   "id": "31d8a394-d286-4e39-8153-0f7612836f60",
   "metadata": {},
   "outputs": [
    {
     "data": {
      "text/plain": [
       "np.int64(0)"
      ]
     },
     "execution_count": 12,
     "metadata": {},
     "output_type": "execute_result"
    }
   ],
   "source": [
    "df[\"Seat Type\"].isna().sum()"
   ]
  },
  {
   "cell_type": "code",
   "execution_count": 15,
   "id": "2170362d-dc76-467c-8257-2917b193f664",
   "metadata": {},
   "outputs": [
    {
     "data": {
      "text/plain": [
       "np.int64(0)"
      ]
     },
     "execution_count": 15,
     "metadata": {},
     "output_type": "execute_result"
    }
   ],
   "source": [
    "df[\"Country\"].isna().sum()"
   ]
  },
  {
   "cell_type": "code",
   "execution_count": 16,
   "id": "2174c60e-da72-4e6b-a986-0db2eb483f62",
   "metadata": {},
   "outputs": [
    {
     "data": {
      "text/plain": [
       "np.int64(0)"
      ]
     },
     "execution_count": 16,
     "metadata": {},
     "output_type": "execute_result"
    }
   ],
   "source": [
    "df[\"Country\"].isnull().sum()"
   ]
  },
  {
   "cell_type": "code",
   "execution_count": 17,
   "id": "7674c299-4c2b-4226-bb36-bfc65ffc9f36",
   "metadata": {},
   "outputs": [
    {
     "data": {
      "text/plain": [
       "np.int64(0)"
      ]
     },
     "execution_count": 17,
     "metadata": {},
     "output_type": "execute_result"
    }
   ],
   "source": [
    "df[\"Review Body\"].isnull().sum()"
   ]
  },
  {
   "cell_type": "code",
   "execution_count": 18,
   "id": "6c2b1a25-c7b8-4582-a1b7-f5e76d8d2137",
   "metadata": {},
   "outputs": [
    {
     "data": {
      "text/plain": [
       "np.int64(0)"
      ]
     },
     "execution_count": 18,
     "metadata": {},
     "output_type": "execute_result"
    }
   ],
   "source": [
    "df[\"Review Body\"].isna().sum()"
   ]
  },
  {
   "cell_type": "code",
   "execution_count": 20,
   "id": "5a30f740-a6b7-459e-95ec-e27d2bfcb714",
   "metadata": {},
   "outputs": [
    {
     "data": {
      "text/plain": [
       "(2369, 16)"
      ]
     },
     "execution_count": 20,
     "metadata": {},
     "output_type": "execute_result"
    }
   ],
   "source": [
    "df.shape"
   ]
  },
  {
   "cell_type": "code",
   "execution_count": 22,
   "id": "53e9dae9-c85a-4710-96e5-914e1b17263b",
   "metadata": {},
   "outputs": [
    {
     "ename": "AttributeError",
     "evalue": "'Series' object has no attribute 'unqiue'",
     "output_type": "error",
     "traceback": [
      "\u001b[1;31m---------------------------------------------------------------------------\u001b[0m",
      "\u001b[1;31mAttributeError\u001b[0m                            Traceback (most recent call last)",
      "\u001b[1;32m~\\AppData\\Local\\Temp\\ipykernel_1812\\2879320786.py\u001b[0m in \u001b[0;36m?\u001b[1;34m()\u001b[0m\n\u001b[1;32m----> 1\u001b[1;33m \u001b[0mdf\u001b[0m\u001b[1;33m[\u001b[0m\u001b[1;34m'Seat Type'\u001b[0m\u001b[1;33m]\u001b[0m\u001b[1;33m.\u001b[0m\u001b[0munqiue\u001b[0m\u001b[1;33m(\u001b[0m\u001b[1;33m)\u001b[0m\u001b[1;33m\u001b[0m\u001b[1;33m\u001b[0m\u001b[0m\n\u001b[0m",
      "\u001b[1;32m~\\AppData\\Local\\Programs\\Python\\Python39\\lib\\site-packages\\pandas\\core\\generic.py\u001b[0m in \u001b[0;36m?\u001b[1;34m(self, name)\u001b[0m\n\u001b[0;32m   6295\u001b[0m             \u001b[1;32mand\u001b[0m \u001b[0mname\u001b[0m \u001b[1;32mnot\u001b[0m \u001b[1;32min\u001b[0m \u001b[0mself\u001b[0m\u001b[1;33m.\u001b[0m\u001b[0m_accessors\u001b[0m\u001b[1;33m\u001b[0m\u001b[1;33m\u001b[0m\u001b[0m\n\u001b[0;32m   6296\u001b[0m             \u001b[1;32mand\u001b[0m \u001b[0mself\u001b[0m\u001b[1;33m.\u001b[0m\u001b[0m_info_axis\u001b[0m\u001b[1;33m.\u001b[0m\u001b[0m_can_hold_identifiers_and_holds_name\u001b[0m\u001b[1;33m(\u001b[0m\u001b[0mname\u001b[0m\u001b[1;33m)\u001b[0m\u001b[1;33m\u001b[0m\u001b[1;33m\u001b[0m\u001b[0m\n\u001b[0;32m   6297\u001b[0m         ):\n\u001b[0;32m   6298\u001b[0m             \u001b[1;32mreturn\u001b[0m \u001b[0mself\u001b[0m\u001b[1;33m[\u001b[0m\u001b[0mname\u001b[0m\u001b[1;33m]\u001b[0m\u001b[1;33m\u001b[0m\u001b[1;33m\u001b[0m\u001b[0m\n\u001b[1;32m-> 6299\u001b[1;33m         \u001b[1;32mreturn\u001b[0m \u001b[0mobject\u001b[0m\u001b[1;33m.\u001b[0m\u001b[0m__getattribute__\u001b[0m\u001b[1;33m(\u001b[0m\u001b[0mself\u001b[0m\u001b[1;33m,\u001b[0m \u001b[0mname\u001b[0m\u001b[1;33m)\u001b[0m\u001b[1;33m\u001b[0m\u001b[1;33m\u001b[0m\u001b[0m\n\u001b[0m",
      "\u001b[1;31mAttributeError\u001b[0m: 'Series' object has no attribute 'unqiue'"
     ]
    }
   ],
   "source": [
    "df['Seat Type'].unqiue()"
   ]
  },
  {
   "cell_type": "code",
   "execution_count": null,
   "id": "cf5b6c73-b728-4029-9e46-53154f473727",
   "metadata": {},
   "outputs": [],
   "source": []
  }
 ],
 "metadata": {
  "kernelspec": {
   "display_name": "Python 3 (ipykernel)",
   "language": "python",
   "name": "python3"
  },
  "language_info": {
   "codemirror_mode": {
    "name": "ipython",
    "version": 3
   },
   "file_extension": ".py",
   "mimetype": "text/x-python",
   "name": "python",
   "nbconvert_exporter": "python",
   "pygments_lexer": "ipython3",
   "version": "3.9.2"
  }
 },
 "nbformat": 4,
 "nbformat_minor": 5
}
